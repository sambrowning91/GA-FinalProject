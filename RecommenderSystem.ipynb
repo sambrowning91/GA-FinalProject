{
 "cells": [
  {
   "cell_type": "code",
   "execution_count": 46,
   "metadata": {
    "collapsed": true
   },
   "outputs": [],
   "source": [
    "import pandas as pd\n",
    "from pandas.io import sql\n",
    "import sqlite3\n",
    "import re\n",
    "import HTMLParser"
   ]
  },
  {
   "cell_type": "code",
   "execution_count": 29,
   "metadata": {
    "collapsed": false
   },
   "outputs": [
    {
     "data": {
      "text/html": [
       "<div>\n",
       "<table border=\"1\" class=\"dataframe\">\n",
       "  <thead>\n",
       "    <tr style=\"text-align: right;\">\n",
       "      <th></th>\n",
       "      <th>CleanedBody</th>\n",
       "    </tr>\n",
       "  </thead>\n",
       "  <tbody>\n",
       "    <tr>\n",
       "      <th>0</th>\n",
       "      <td>[\\nTop stories\\n\\nFinancial Times: Royal Bank ...</td>\n",
       "    </tr>\n",
       "  </tbody>\n",
       "</table>\n",
       "</div>"
      ],
      "text/plain": [
       "                                         CleanedBody\n",
       "0  [\\nTop stories\\n\\nFinancial Times: Royal Bank ..."
      ]
     },
     "execution_count": 29,
     "metadata": {},
     "output_type": "execute_result"
    }
   ],
   "source": [
    "conn = sqlite3.connect('ArticlesScraping.db')\n",
    "\n",
    "sql.read_sql(\n",
    "\"\"\"\n",
    "select CleanedBody from ArticleCorpus\n",
    "\"\"\", con=conn).head(1)"
   ]
  },
  {
   "cell_type": "code",
   "execution_count": 14,
   "metadata": {
    "collapsed": false
   },
   "outputs": [],
   "source": [
    "#Need to add a line of code here to remove duplicates in table (based on url? Header? time?)"
   ]
  },
  {
   "cell_type": "code",
   "execution_count": 15,
   "metadata": {
    "collapsed": false
   },
   "outputs": [],
   "source": [
    "#Need to add a line of code here to clean up the Author column"
   ]
  },
  {
   "cell_type": "code",
   "execution_count": 16,
   "metadata": {
    "collapsed": false
   },
   "outputs": [],
   "source": [
    "from sklearn.feature_extraction.stop_words import ENGLISH_STOP_WORDS\n",
    "# Remove stop words\n",
    "\n",
    "from sklearn.feature_extraction.stop_words import ENGLISH_STOP_WORDS\n",
    "\n",
    "# Make it a raw string\n",
    "def raw_string(s):\n",
    "    if isinstance(s, str):\n",
    "        s = s.encode('string-escape')\n",
    "    elif isinstance(s, unicode):\n",
    "        s = s.encode('unicode-escape')\n",
    "    return s\n",
    "\n",
    "# Remove stop words\n",
    "def remove_stopwords(content):\n",
    "    cleaned = filter(lambda x: x not in ENGLISH_STOP_WORDS,content.split())\n",
    "    return ' '.join(cleaned)\n",
    "\n",
    "#remove punctuation\n",
    "import string\n",
    "def remove_punctuation(content):\n",
    "    return filter(lambda x: x in string.ascii_letters+\" \",content)\n",
    "\n",
    "#remove numbers\n",
    "def remove_numbers(content):\n",
    "    return re.sub(r'\\d+', '', content)\n",
    "\n",
    "#remove some specific news/finance words that are killing the model\n",
    "stopwords2 = ['million', 'billion', 'millions', 'billions', 'said', 'xa', 'nthe']\n",
    "def remove_stopwords2(content):\n",
    "    cleaned = filter(lambda x: x not in stopwords2,content.split())\n",
    "    return ' '.join(cleaned)"
   ]
  },
  {
   "cell_type": "code",
   "execution_count": 17,
   "metadata": {
    "collapsed": false
   },
   "outputs": [
    {
     "data": {
      "text/plain": [
       "LatentDirichletAllocation(batch_size=128, doc_topic_prior=None,\n",
       "             evaluate_every=-1, learning_decay=0.7,\n",
       "             learning_method='online', learning_offset=10.0,\n",
       "             max_doc_update_iter=100, max_iter=10, mean_change_tol=0.001,\n",
       "             n_jobs=1, n_topics=5, perp_tol=0.1, random_state=None,\n",
       "             topic_word_prior=None, total_samples=1000000.0, verbose=0)"
      ]
     },
     "execution_count": 17,
     "metadata": {},
     "output_type": "execute_result"
    }
   ],
   "source": [
    "def preprocess(s):\n",
    "    s=s.lower()\n",
    "    s= raw_string(s)\n",
    "    #stem/lemmatize\n",
    "    \n",
    "    #remove\n",
    "    s= remove_punctuation(s)\n",
    "    s= remove_stopwords(s)\n",
    "    s= remove_stopwords2(s)\n",
    "    s= remove_numbers(s)\n",
    "    return s\n",
    "\n",
    "from sklearn.feature_extraction.text import CountVectorizer\n",
    "c_vectorizer = CountVectorizer(preprocessor=preprocess,\n",
    "                               stop_words='english',\n",
    "                               min_df=.05)\n",
    "\n",
    "count_matrix = c_vectorizer.fit_transform(\n",
    "    sql.read_sql(\"SELECT CleanedBody from ArticleCorpus\",con=conn)['CleanedBody']\n",
    "    )\n",
    "n_topics = 5\n",
    "from sklearn.decomposition import LatentDirichletAllocation\n",
    "lda = LatentDirichletAllocation(n_topics=n_topics, max_iter=10)\n",
    "lda.fit(count_matrix)"
   ]
  },
  {
   "cell_type": "code",
   "execution_count": 18,
   "metadata": {
    "collapsed": false
   },
   "outputs": [
    {
     "data": {
      "text/html": [
       "<div>\n",
       "<table border=\"1\" class=\"dataframe\">\n",
       "  <thead>\n",
       "    <tr style=\"text-align: right;\">\n",
       "      <th></th>\n",
       "      <th>Topic0</th>\n",
       "      <th>Topic1</th>\n",
       "      <th>Topic2</th>\n",
       "      <th>Topic3</th>\n",
       "      <th>Topic4</th>\n",
       "      <th>FullLink</th>\n",
       "    </tr>\n",
       "  </thead>\n",
       "  <tbody>\n",
       "    <tr>\n",
       "      <th>0</th>\n",
       "      <td>176.189792</td>\n",
       "      <td>0.202712</td>\n",
       "      <td>0.203553</td>\n",
       "      <td>0.201999</td>\n",
       "      <td>0.201944</td>\n",
       "      <td>http://citywire.co.uk/wealth-manager/news/satu...</td>\n",
       "    </tr>\n",
       "    <tr>\n",
       "      <th>1</th>\n",
       "      <td>0.202835</td>\n",
       "      <td>0.202499</td>\n",
       "      <td>0.201410</td>\n",
       "      <td>40.191482</td>\n",
       "      <td>0.201774</td>\n",
       "      <td>http://citywire.co.uk/wealth-manager/news/rath...</td>\n",
       "    </tr>\n",
       "    <tr>\n",
       "      <th>2</th>\n",
       "      <td>0.200000</td>\n",
       "      <td>0.200000</td>\n",
       "      <td>0.200000</td>\n",
       "      <td>0.200000</td>\n",
       "      <td>0.200000</td>\n",
       "      <td>http://citywire.co.uk/wealth-manager/news/cent...</td>\n",
       "    </tr>\n",
       "    <tr>\n",
       "      <th>3</th>\n",
       "      <td>0.201718</td>\n",
       "      <td>0.203888</td>\n",
       "      <td>22.188804</td>\n",
       "      <td>0.202666</td>\n",
       "      <td>0.202924</td>\n",
       "      <td>http://citywire.co.uk/wealth-manager/news/weal...</td>\n",
       "    </tr>\n",
       "    <tr>\n",
       "      <th>4</th>\n",
       "      <td>46.102190</td>\n",
       "      <td>38.775066</td>\n",
       "      <td>15.712272</td>\n",
       "      <td>0.203787</td>\n",
       "      <td>0.206684</td>\n",
       "      <td>http://citywire.co.uk/wealth-manager/news/jupi...</td>\n",
       "    </tr>\n",
       "    <tr>\n",
       "      <th>5</th>\n",
       "      <td>0.202663</td>\n",
       "      <td>94.190370</td>\n",
       "      <td>0.202294</td>\n",
       "      <td>0.202774</td>\n",
       "      <td>0.201899</td>\n",
       "      <td>http://citywire.co.uk/wealth-manager/news/towr...</td>\n",
       "    </tr>\n",
       "    <tr>\n",
       "      <th>6</th>\n",
       "      <td>113.193732</td>\n",
       "      <td>0.201085</td>\n",
       "      <td>0.202577</td>\n",
       "      <td>0.201884</td>\n",
       "      <td>0.200722</td>\n",
       "      <td>http://citywire.co.uk/wealth-manager/news/shel...</td>\n",
       "    </tr>\n",
       "    <tr>\n",
       "      <th>7</th>\n",
       "      <td>0.203149</td>\n",
       "      <td>0.201284</td>\n",
       "      <td>75.191678</td>\n",
       "      <td>0.202656</td>\n",
       "      <td>0.201232</td>\n",
       "      <td>http://citywire.co.uk/wealth-manager/news/hedg...</td>\n",
       "    </tr>\n",
       "    <tr>\n",
       "      <th>8</th>\n",
       "      <td>0.204633</td>\n",
       "      <td>0.201837</td>\n",
       "      <td>89.187600</td>\n",
       "      <td>0.203299</td>\n",
       "      <td>0.202630</td>\n",
       "      <td>http://citywire.co.uk/wealth-manager/news/spec...</td>\n",
       "    </tr>\n",
       "    <tr>\n",
       "      <th>9</th>\n",
       "      <td>37.188226</td>\n",
       "      <td>0.201365</td>\n",
       "      <td>0.202447</td>\n",
       "      <td>0.203384</td>\n",
       "      <td>0.204578</td>\n",
       "      <td>http://citywire.co.uk/wealth-manager/news/auro...</td>\n",
       "    </tr>\n",
       "  </tbody>\n",
       "</table>\n",
       "</div>"
      ],
      "text/plain": [
       "       Topic0     Topic1     Topic2     Topic3    Topic4  \\\n",
       "0  176.189792   0.202712   0.203553   0.201999  0.201944   \n",
       "1    0.202835   0.202499   0.201410  40.191482  0.201774   \n",
       "2    0.200000   0.200000   0.200000   0.200000  0.200000   \n",
       "3    0.201718   0.203888  22.188804   0.202666  0.202924   \n",
       "4   46.102190  38.775066  15.712272   0.203787  0.206684   \n",
       "5    0.202663  94.190370   0.202294   0.202774  0.201899   \n",
       "6  113.193732   0.201085   0.202577   0.201884  0.200722   \n",
       "7    0.203149   0.201284  75.191678   0.202656  0.201232   \n",
       "8    0.204633   0.201837  89.187600   0.203299  0.202630   \n",
       "9   37.188226   0.201365   0.202447   0.203384  0.204578   \n",
       "\n",
       "                                            FullLink  \n",
       "0  http://citywire.co.uk/wealth-manager/news/satu...  \n",
       "1  http://citywire.co.uk/wealth-manager/news/rath...  \n",
       "2  http://citywire.co.uk/wealth-manager/news/cent...  \n",
       "3  http://citywire.co.uk/wealth-manager/news/weal...  \n",
       "4  http://citywire.co.uk/wealth-manager/news/jupi...  \n",
       "5  http://citywire.co.uk/wealth-manager/news/towr...  \n",
       "6  http://citywire.co.uk/wealth-manager/news/shel...  \n",
       "7  http://citywire.co.uk/wealth-manager/news/hedg...  \n",
       "8  http://citywire.co.uk/wealth-manager/news/spec...  \n",
       "9  http://citywire.co.uk/wealth-manager/news/auro...  "
      ]
     },
     "execution_count": 18,
     "metadata": {},
     "output_type": "execute_result"
    }
   ],
   "source": [
    "data = sql.read_sql(\"SELECT FullLink, CleanedBody from ArticleCorpus\",con=conn)\n",
    "results = lda.transform(c_vectorizer.fit_transform(data['CleanedBody']))\n",
    "topic_df = pd.DataFrame(results,columns=[\"Topic%s\" % i for i in range(5)])\n",
    "topic_df['FullLink'] = data['FullLink']\n",
    "topic_df.to_sql(name='Article_Topics',\n",
    "            con=conn,\n",
    "            if_exists='replace',\n",
    "            index=False)\n",
    "topic_df.head(10)"
   ]
  },
  {
   "cell_type": "code",
   "execution_count": 19,
   "metadata": {
    "collapsed": false
   },
   "outputs": [
    {
     "name": "stdout",
     "output_type": "stream",
     "text": [
      "market times oil uk management companies trade brexit investors price stocks investment following platform month\n",
      "jersey eu office financial business uk director service people opportunities advice client team private retirement\n",
      "fund government income bond investors market likely rules sector uk result banks vote wealth yields\n",
      "investment director new management fund wealth market investors firm manager assets months need company current\n",
      "china mutual year returned company managed overall slowing nicholls trust markets manager asset confident net\n"
     ]
    }
   ],
   "source": [
    "n_top_words = 15\n",
    "import operator\n",
    "vocabulary = c_vectorizer.get_feature_names()\n",
    "for i in range(n_topics):\n",
    "    best_words_indexes = lda.components_[i].argsort()[:-n_top_words - 1:-1]\n",
    "    best_words = \" \".join([vocabulary[i] for i in best_words_indexes])\n",
    "    print best_words"
   ]
  },
  {
   "cell_type": "markdown",
   "metadata": {},
   "source": [
    "\n",
    "Possible topics could be:\n",
    "1. Investment Strategies\n",
    "2. Wealth / D2C focused market\n",
    "3. EU-centric Brexit topics\n",
    "4. Macroeconomic concerns\n",
    "5. Value/Equity investing\n"
   ]
  },
  {
   "cell_type": "code",
   "execution_count": 26,
   "metadata": {
    "collapsed": false
   },
   "outputs": [
    {
     "data": {
      "text/html": [
       "<div>\n",
       "<table border=\"1\" class=\"dataframe\">\n",
       "  <thead>\n",
       "    <tr style=\"text-align: right;\">\n",
       "      <th></th>\n",
       "      <th>FullLink</th>\n",
       "      <th>Rating</th>\n",
       "      <th>User</th>\n",
       "    </tr>\n",
       "  </thead>\n",
       "  <tbody>\n",
       "    <tr>\n",
       "      <th>0</th>\n",
       "      <td>http://citywire.co.uk/wealth-manager/news/satu...</td>\n",
       "      <td>0</td>\n",
       "      <td>SamB</td>\n",
       "    </tr>\n",
       "    <tr>\n",
       "      <th>1</th>\n",
       "      <td>http://citywire.co.uk/wealth-manager/news/rath...</td>\n",
       "      <td>0</td>\n",
       "      <td>SamB</td>\n",
       "    </tr>\n",
       "  </tbody>\n",
       "</table>\n",
       "</div>"
      ],
      "text/plain": [
       "                                            FullLink  Rating  User\n",
       "0  http://citywire.co.uk/wealth-manager/news/satu...       0  SamB\n",
       "1  http://citywire.co.uk/wealth-manager/news/rath...       0  SamB"
      ]
     },
     "execution_count": 26,
     "metadata": {},
     "output_type": "execute_result"
    }
   ],
   "source": [
    "UserRatingsdf = pd.read_csv(\"UserRatings.csv\",usecols=[1,2,3])\n",
    "UserRatingsdf.head(2)\n",
    "UserRatingsdf.to_sql(name='userratings.db',\n",
    "            con=conn,\n",
    "            if_exists='replace',\n",
    "            index=False)\n",
    "UserRatingsdf.head(2)"
   ]
  },
  {
   "cell_type": "code",
   "execution_count": 47,
   "metadata": {
    "collapsed": false
   },
   "outputs": [],
   "source": [
    "#remove them backslashes\n",
    "def remove_backslashes(content):\n",
    "    return re.sub(r'\\\\.', ' ', content)\n",
    "def remove_morebackslashes(content):\n",
    "    return re.sub(r'\\.', ' ', content)\n",
    "def remove_evenmorebackslashes(content):\n",
    "    return re.sub(r'\\..', ' ', content)\n",
    "def remove_doublespace(content):\n",
    "    return re.sub(r'  ',' ', content)\n",
    "\n",
    "def thebigcleanup(content):\n",
    "    content = remove_numbers(content)\n",
    "    content = HTMLParser.HTMLParser().unescape(content)\n",
    "    content = remove_backslashes(content)\n",
    "    content = remove_morebackslashes(content)\n",
    "    content = remove_evenmorebackslashes(content)\n",
    "    content = remove_doublespace(content)\n",
    "    return content"
   ]
  },
  {
   "cell_type": "code",
   "execution_count": 52,
   "metadata": {
    "collapsed": false
   },
   "outputs": [
    {
     "data": {
      "text/html": [
       "<div>\n",
       "<table border=\"1\" class=\"dataframe\">\n",
       "  <thead>\n",
       "    <tr style=\"text-align: right;\">\n",
       "      <th></th>\n",
       "      <th>PageLinks</th>\n",
       "      <th>FullLink</th>\n",
       "      <th>Time</th>\n",
       "      <th>Author</th>\n",
       "      <th>Header</th>\n",
       "      <th>Body</th>\n",
       "      <th>CleanedBody</th>\n",
       "      <th>ExtraCleanedBody</th>\n",
       "    </tr>\n",
       "  </thead>\n",
       "  <tbody>\n",
       "    <tr>\n",
       "      <th>0</th>\n",
       "      <td>/wealth-manager/news/saturday-papers-rbs-to-ch...</td>\n",
       "      <td>http://citywire.co.uk/wealth-manager/news/satu...</td>\n",
       "      <td>2016-08-20 05:17:37</td>\n",
       "      <td>&gt;HimanshuSingh]</td>\n",
       "      <td>Saturday Papers: RBS to charge big clients for...</td>\n",
       "      <td>[&lt;div class=\"article-body\" itemprop=\"articleBo...</td>\n",
       "      <td>[\\nTop stories\\n\\nFinancial Times: Royal Bank ...</td>\n",
       "      <td>[ Top stories Financial Times: Royal Bank of S...</td>\n",
       "    </tr>\n",
       "    <tr>\n",
       "      <th>1</th>\n",
       "      <td>/wealth-manager/news/rathbones-adds-to-london-...</td>\n",
       "      <td>http://citywire.co.uk/wealth-manager/news/rath...</td>\n",
       "      <td>2016-08-19 13:42:56</td>\n",
       "      <td>&gt;JoshuaThurston]</td>\n",
       "      <td>Rathbones adds to London office with second HS...</td>\n",
       "      <td>[&lt;div class=\"article-body\" itemprop=\"articleBo...</td>\n",
       "      <td>[\\nRathbone Brothers has hired its second HSBC...</td>\n",
       "      <td>[ Rathbone Brothers has hired its second HSBC ...</td>\n",
       "    </tr>\n",
       "    <tr>\n",
       "      <th>2</th>\n",
       "      <td>/wealth-manager/news/central-banks-pouring-fue...</td>\n",
       "      <td>http://citywire.co.uk/wealth-manager/news/cent...</td>\n",
       "      <td>2016-08-19 12:52:45</td>\n",
       "      <td>&gt;AndrewMilligan]</td>\n",
       "      <td>Central banks pouring fuel on dying embers</td>\n",
       "      <td>[]</td>\n",
       "      <td>[]</td>\n",
       "      <td>[]</td>\n",
       "    </tr>\n",
       "    <tr>\n",
       "      <th>3</th>\n",
       "      <td>/wealth-manager/news/wealth-manager-olympics-t...</td>\n",
       "      <td>http://citywire.co.uk/wealth-manager/news/weal...</td>\n",
       "      <td>2016-08-19 12:27:35</td>\n",
       "      <td>[]</td>\n",
       "      <td>Wealth Manager Olympics: the Relay</td>\n",
       "      <td>[&lt;div class=\"article-body jsArticle-body--star...</td>\n",
       "      <td>[\\nIf like us, the Wealth Manager Olympics has...</td>\n",
       "      <td>[ If like us, the Wealth Manager Olympics has ...</td>\n",
       "    </tr>\n",
       "    <tr>\n",
       "      <th>4</th>\n",
       "      <td>/wealth-manager/news/jupiters-davies-buys-bomb...</td>\n",
       "      <td>http://citywire.co.uk/wealth-manager/news/jupi...</td>\n",
       "      <td>2016-08-19 11:21:00</td>\n",
       "      <td>&gt;JonathanYarker]</td>\n",
       "      <td>Jupiter's Davies buys 'bombed out' domestics</td>\n",
       "      <td>[&lt;div class=\"article-body\" itemprop=\"articleBo...</td>\n",
       "      <td>[\\n\\xa0Steve Davies, manager of the\\xa0Jupiter...</td>\n",
       "      <td>[ aSteve Davies, manager of the aJupiter UK Gr...</td>\n",
       "    </tr>\n",
       "  </tbody>\n",
       "</table>\n",
       "</div>"
      ],
      "text/plain": [
       "                                           PageLinks  \\\n",
       "0  /wealth-manager/news/saturday-papers-rbs-to-ch...   \n",
       "1  /wealth-manager/news/rathbones-adds-to-london-...   \n",
       "2  /wealth-manager/news/central-banks-pouring-fue...   \n",
       "3  /wealth-manager/news/wealth-manager-olympics-t...   \n",
       "4  /wealth-manager/news/jupiters-davies-buys-bomb...   \n",
       "\n",
       "                                            FullLink                 Time  \\\n",
       "0  http://citywire.co.uk/wealth-manager/news/satu...  2016-08-20 05:17:37   \n",
       "1  http://citywire.co.uk/wealth-manager/news/rath...  2016-08-19 13:42:56   \n",
       "2  http://citywire.co.uk/wealth-manager/news/cent...  2016-08-19 12:52:45   \n",
       "3  http://citywire.co.uk/wealth-manager/news/weal...  2016-08-19 12:27:35   \n",
       "4  http://citywire.co.uk/wealth-manager/news/jupi...  2016-08-19 11:21:00   \n",
       "\n",
       "             Author                                             Header  \\\n",
       "0   >HimanshuSingh]  Saturday Papers: RBS to charge big clients for...   \n",
       "1  >JoshuaThurston]  Rathbones adds to London office with second HS...   \n",
       "2  >AndrewMilligan]         Central banks pouring fuel on dying embers   \n",
       "3                []                 Wealth Manager Olympics: the Relay   \n",
       "4  >JonathanYarker]       Jupiter's Davies buys 'bombed out' domestics   \n",
       "\n",
       "                                                Body  \\\n",
       "0  [<div class=\"article-body\" itemprop=\"articleBo...   \n",
       "1  [<div class=\"article-body\" itemprop=\"articleBo...   \n",
       "2                                                 []   \n",
       "3  [<div class=\"article-body jsArticle-body--star...   \n",
       "4  [<div class=\"article-body\" itemprop=\"articleBo...   \n",
       "\n",
       "                                         CleanedBody  \\\n",
       "0  [\\nTop stories\\n\\nFinancial Times: Royal Bank ...   \n",
       "1  [\\nRathbone Brothers has hired its second HSBC...   \n",
       "2                                                 []   \n",
       "3  [\\nIf like us, the Wealth Manager Olympics has...   \n",
       "4  [\\n\\xa0Steve Davies, manager of the\\xa0Jupiter...   \n",
       "\n",
       "                                    ExtraCleanedBody  \n",
       "0  [ Top stories Financial Times: Royal Bank of S...  \n",
       "1  [ Rathbone Brothers has hired its second HSBC ...  \n",
       "2                                                 []  \n",
       "3  [ If like us, the Wealth Manager Olympics has ...  \n",
       "4  [ aSteve Davies, manager of the aJupiter UK Gr...  "
      ]
     },
     "execution_count": 52,
     "metadata": {},
     "output_type": "execute_result"
    }
   ],
   "source": [
    "data = sql.read_sql(\n",
    "\"\"\"\n",
    "select * from ArticleCorpus\n",
    "\"\"\", con=conn)\n",
    "#Create new column 'Extra cleaned body' \n",
    "data[\"ExtraCleanedBody\"] = data[\"CleanedBody\"].apply(thebigcleanup)\n",
    "data.head()"
   ]
  },
  {
   "cell_type": "code",
   "execution_count": 9,
   "metadata": {
    "collapsed": false
   },
   "outputs": [],
   "source": [
    "conn.close()"
   ]
  }
 ],
 "metadata": {
  "kernelspec": {
   "display_name": "Python 2",
   "language": "python",
   "name": "python2"
  },
  "language_info": {
   "codemirror_mode": {
    "name": "ipython",
    "version": 2
   },
   "file_extension": ".py",
   "mimetype": "text/x-python",
   "name": "python",
   "nbconvert_exporter": "python",
   "pygments_lexer": "ipython2",
   "version": "2.7.11"
  }
 },
 "nbformat": 4,
 "nbformat_minor": 0
}
