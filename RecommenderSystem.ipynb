{
 "cells": [
  {
   "cell_type": "code",
   "execution_count": 1,
   "metadata": {
    "collapsed": true
   },
   "outputs": [],
   "source": [
    "import pandas as pd\n",
    "from pandas.io import sql\n",
    "import sqlite3\n",
    "import re"
   ]
  },
  {
   "cell_type": "code",
   "execution_count": 2,
   "metadata": {
    "collapsed": false
   },
   "outputs": [
    {
     "data": {
      "text/html": [
       "<div>\n",
       "<table border=\"1\" class=\"dataframe\">\n",
       "  <thead>\n",
       "    <tr style=\"text-align: right;\">\n",
       "      <th></th>\n",
       "      <th>PageLinks</th>\n",
       "      <th>FullLink</th>\n",
       "      <th>Time</th>\n",
       "      <th>Author</th>\n",
       "      <th>Header</th>\n",
       "      <th>Body</th>\n",
       "      <th>CleanedBody</th>\n",
       "    </tr>\n",
       "  </thead>\n",
       "  <tbody>\n",
       "    <tr>\n",
       "      <th>0</th>\n",
       "      <td>/wealth-manager/news/saturday-papers-rbs-to-ch...</td>\n",
       "      <td>http://citywire.co.uk/wealth-manager/news/satu...</td>\n",
       "      <td>2016-08-20 05:17:37</td>\n",
       "      <td>&gt;HimanshuSingh]</td>\n",
       "      <td>Saturday Papers: RBS to charge big clients for...</td>\n",
       "      <td>[&lt;div class=\"article-body\" itemprop=\"articleBo...</td>\n",
       "      <td>[\\nTop stories\\n\\nFinancial Times: Royal Bank ...</td>\n",
       "    </tr>\n",
       "    <tr>\n",
       "      <th>1</th>\n",
       "      <td>/wealth-manager/news/rathbones-adds-to-london-...</td>\n",
       "      <td>http://citywire.co.uk/wealth-manager/news/rath...</td>\n",
       "      <td>2016-08-19 13:42:56</td>\n",
       "      <td>&gt;JoshuaThurston]</td>\n",
       "      <td>Rathbones adds to London office with second HS...</td>\n",
       "      <td>[&lt;div class=\"article-body\" itemprop=\"articleBo...</td>\n",
       "      <td>[\\nRathbone Brothers has hired its second HSBC...</td>\n",
       "    </tr>\n",
       "    <tr>\n",
       "      <th>2</th>\n",
       "      <td>/wealth-manager/news/central-banks-pouring-fue...</td>\n",
       "      <td>http://citywire.co.uk/wealth-manager/news/cent...</td>\n",
       "      <td>2016-08-19 12:52:45</td>\n",
       "      <td>&gt;AndrewMilligan]</td>\n",
       "      <td>Central banks pouring fuel on dying embers</td>\n",
       "      <td>[]</td>\n",
       "      <td>[]</td>\n",
       "    </tr>\n",
       "    <tr>\n",
       "      <th>3</th>\n",
       "      <td>/wealth-manager/news/wealth-manager-olympics-t...</td>\n",
       "      <td>http://citywire.co.uk/wealth-manager/news/weal...</td>\n",
       "      <td>2016-08-19 12:27:35</td>\n",
       "      <td>[]</td>\n",
       "      <td>Wealth Manager Olympics: the Relay</td>\n",
       "      <td>[&lt;div class=\"article-body jsArticle-body--star...</td>\n",
       "      <td>[\\nIf like us, the Wealth Manager Olympics has...</td>\n",
       "    </tr>\n",
       "    <tr>\n",
       "      <th>4</th>\n",
       "      <td>/wealth-manager/news/jupiters-davies-buys-bomb...</td>\n",
       "      <td>http://citywire.co.uk/wealth-manager/news/jupi...</td>\n",
       "      <td>2016-08-19 11:21:00</td>\n",
       "      <td>&gt;JonathanYarker]</td>\n",
       "      <td>Jupiter's Davies buys 'bombed out' domestics</td>\n",
       "      <td>[&lt;div class=\"article-body\" itemprop=\"articleBo...</td>\n",
       "      <td>[\\n\\xa0Steve Davies, manager of the\\xa0Jupiter...</td>\n",
       "    </tr>\n",
       "  </tbody>\n",
       "</table>\n",
       "</div>"
      ],
      "text/plain": [
       "                                           PageLinks  \\\n",
       "0  /wealth-manager/news/saturday-papers-rbs-to-ch...   \n",
       "1  /wealth-manager/news/rathbones-adds-to-london-...   \n",
       "2  /wealth-manager/news/central-banks-pouring-fue...   \n",
       "3  /wealth-manager/news/wealth-manager-olympics-t...   \n",
       "4  /wealth-manager/news/jupiters-davies-buys-bomb...   \n",
       "\n",
       "                                            FullLink                 Time  \\\n",
       "0  http://citywire.co.uk/wealth-manager/news/satu...  2016-08-20 05:17:37   \n",
       "1  http://citywire.co.uk/wealth-manager/news/rath...  2016-08-19 13:42:56   \n",
       "2  http://citywire.co.uk/wealth-manager/news/cent...  2016-08-19 12:52:45   \n",
       "3  http://citywire.co.uk/wealth-manager/news/weal...  2016-08-19 12:27:35   \n",
       "4  http://citywire.co.uk/wealth-manager/news/jupi...  2016-08-19 11:21:00   \n",
       "\n",
       "             Author                                             Header  \\\n",
       "0   >HimanshuSingh]  Saturday Papers: RBS to charge big clients for...   \n",
       "1  >JoshuaThurston]  Rathbones adds to London office with second HS...   \n",
       "2  >AndrewMilligan]         Central banks pouring fuel on dying embers   \n",
       "3                []                 Wealth Manager Olympics: the Relay   \n",
       "4  >JonathanYarker]       Jupiter's Davies buys 'bombed out' domestics   \n",
       "\n",
       "                                                Body  \\\n",
       "0  [<div class=\"article-body\" itemprop=\"articleBo...   \n",
       "1  [<div class=\"article-body\" itemprop=\"articleBo...   \n",
       "2                                                 []   \n",
       "3  [<div class=\"article-body jsArticle-body--star...   \n",
       "4  [<div class=\"article-body\" itemprop=\"articleBo...   \n",
       "\n",
       "                                         CleanedBody  \n",
       "0  [\\nTop stories\\n\\nFinancial Times: Royal Bank ...  \n",
       "1  [\\nRathbone Brothers has hired its second HSBC...  \n",
       "2                                                 []  \n",
       "3  [\\nIf like us, the Wealth Manager Olympics has...  \n",
       "4  [\\n\\xa0Steve Davies, manager of the\\xa0Jupiter...  "
      ]
     },
     "execution_count": 2,
     "metadata": {},
     "output_type": "execute_result"
    }
   ],
   "source": [
    "conn = sqlite3.connect('ArticlesScraping.db')\n",
    "\n",
    "sql.read_sql(\n",
    "\"\"\"\n",
    "select * from ArticleCorpus\n",
    "\"\"\", con=conn).head(5)"
   ]
  },
  {
   "cell_type": "code",
   "execution_count": 3,
   "metadata": {
    "collapsed": false
   },
   "outputs": [],
   "source": [
    "#Need to add a line of code here to remove duplicates in table (based on url? Header? time?)"
   ]
  },
  {
   "cell_type": "code",
   "execution_count": 4,
   "metadata": {
    "collapsed": false
   },
   "outputs": [],
   "source": [
    "#Need to add a line of code here to clean up the Author column"
   ]
  },
  {
   "cell_type": "code",
   "execution_count": 5,
   "metadata": {
    "collapsed": false
   },
   "outputs": [],
   "source": [
    "from sklearn.feature_extraction.stop_words import ENGLISH_STOP_WORDS\n",
    "# Make a list of the words you want remove# Remove stop words\n",
    "\n",
    "from sklearn.feature_extraction.stop_words import ENGLISH_STOP_WORDS\n",
    "\n",
    "# Make it a raw string\n",
    "def raw_string(s):\n",
    "    if isinstance(s, str):\n",
    "        s = s.encode('string-escape')\n",
    "    elif isinstance(s, unicode):\n",
    "        s = s.encode('unicode-escape')\n",
    "    return s\n",
    "\n",
    "# Remove stop words\n",
    "def remove_stopwords(content):\n",
    "    cleaned = filter(lambda x: x not in ENGLISH_STOP_WORDS,content.split())\n",
    "    return ' '.join(cleaned)\n",
    "\n",
    "#remove punctuation\n",
    "import string\n",
    "def remove_punctuation(content):\n",
    "    return filter(lambda x: x in string.ascii_letters+\" \",content)\n",
    "\n",
    "#remove numbers\n",
    "def remove_numbers(content):\n",
    "    return re.sub(r'\\d+', '', content)\n",
    "\n",
    "#remove some specific news/finance words that are killing it\n",
    "stopwords2 = ['million', 'billion', 'millions', 'billions', 'said', 'xa', 'nthe']\n",
    "def remove_stopwords2(content):\n",
    "    cleaned = filter(lambda x: x not in stopwords2,content.split())\n",
    "    return ' '.join(cleaned)"
   ]
  },
  {
   "cell_type": "code",
   "execution_count": 6,
   "metadata": {
    "collapsed": false
   },
   "outputs": [
    {
     "data": {
      "text/plain": [
       "LatentDirichletAllocation(batch_size=128, doc_topic_prior=None,\n",
       "             evaluate_every=-1, learning_decay=0.7,\n",
       "             learning_method='online', learning_offset=10.0,\n",
       "             max_doc_update_iter=100, max_iter=10, mean_change_tol=0.001,\n",
       "             n_jobs=1, n_topics=5, perp_tol=0.1, random_state=None,\n",
       "             topic_word_prior=None, total_samples=1000000.0, verbose=0)"
      ]
     },
     "execution_count": 6,
     "metadata": {},
     "output_type": "execute_result"
    }
   ],
   "source": [
    "def preprocess(s):\n",
    "    s=s.lower()\n",
    "    s= raw_string(s)\n",
    "    #stem/lemmatize\n",
    "    \n",
    "    #remove\n",
    "    s= remove_punctuation(s)\n",
    "    s= remove_stopwords(s)\n",
    "    s= remove_stopwords2(s)\n",
    "    s= remove_numbers(s)\n",
    "    return s\n",
    "\n",
    "from sklearn.feature_extraction.text import CountVectorizer\n",
    "c_vectorizer = CountVectorizer(preprocessor=preprocess,\n",
    "                               stop_words='english',\n",
    "                               min_df=.05)\n",
    "\n",
    "count_matrix = c_vectorizer.fit_transform(\n",
    "    sql.read_sql(\"SELECT CleanedBody from ArticleCorpus\",con=conn)['CleanedBody']\n",
    "    )\n",
    "n_topics = 5\n",
    "from sklearn.decomposition import LatentDirichletAllocation\n",
    "lda = LatentDirichletAllocation(n_topics=n_topics, max_iter=10)\n",
    "lda.fit(count_matrix)"
   ]
  },
  {
   "cell_type": "code",
   "execution_count": 7,
   "metadata": {
    "collapsed": false
   },
   "outputs": [
    {
     "data": {
      "text/html": [
       "<div>\n",
       "<table border=\"1\" class=\"dataframe\">\n",
       "  <thead>\n",
       "    <tr style=\"text-align: right;\">\n",
       "      <th></th>\n",
       "      <th>Topic0</th>\n",
       "      <th>Topic1</th>\n",
       "      <th>Topic2</th>\n",
       "      <th>Topic3</th>\n",
       "      <th>Topic4</th>\n",
       "      <th>FullLink</th>\n",
       "    </tr>\n",
       "  </thead>\n",
       "  <tbody>\n",
       "    <tr>\n",
       "      <th>0</th>\n",
       "      <td>0.204758</td>\n",
       "      <td>0.202419</td>\n",
       "      <td>0.202136</td>\n",
       "      <td>176.188062</td>\n",
       "      <td>0.202625</td>\n",
       "      <td>http://citywire.co.uk/wealth-manager/news/satu...</td>\n",
       "    </tr>\n",
       "    <tr>\n",
       "      <th>1</th>\n",
       "      <td>40.186861</td>\n",
       "      <td>0.203943</td>\n",
       "      <td>0.202781</td>\n",
       "      <td>0.201028</td>\n",
       "      <td>0.205388</td>\n",
       "      <td>http://citywire.co.uk/wealth-manager/news/rath...</td>\n",
       "    </tr>\n",
       "    <tr>\n",
       "      <th>2</th>\n",
       "      <td>0.200000</td>\n",
       "      <td>0.200000</td>\n",
       "      <td>0.200000</td>\n",
       "      <td>0.200000</td>\n",
       "      <td>0.200000</td>\n",
       "      <td>http://citywire.co.uk/wealth-manager/news/cent...</td>\n",
       "    </tr>\n",
       "    <tr>\n",
       "      <th>3</th>\n",
       "      <td>0.201574</td>\n",
       "      <td>22.191722</td>\n",
       "      <td>0.202322</td>\n",
       "      <td>0.201939</td>\n",
       "      <td>0.202444</td>\n",
       "      <td>http://citywire.co.uk/wealth-manager/news/weal...</td>\n",
       "    </tr>\n",
       "    <tr>\n",
       "      <th>4</th>\n",
       "      <td>0.202711</td>\n",
       "      <td>0.203027</td>\n",
       "      <td>0.201879</td>\n",
       "      <td>0.202244</td>\n",
       "      <td>100.190139</td>\n",
       "      <td>http://citywire.co.uk/wealth-manager/news/jupi...</td>\n",
       "    </tr>\n",
       "    <tr>\n",
       "      <th>5</th>\n",
       "      <td>0.201377</td>\n",
       "      <td>94.194111</td>\n",
       "      <td>0.201508</td>\n",
       "      <td>0.201331</td>\n",
       "      <td>0.201672</td>\n",
       "      <td>http://citywire.co.uk/wealth-manager/news/towr...</td>\n",
       "    </tr>\n",
       "    <tr>\n",
       "      <th>6</th>\n",
       "      <td>113.194204</td>\n",
       "      <td>0.201158</td>\n",
       "      <td>0.201012</td>\n",
       "      <td>0.201810</td>\n",
       "      <td>0.201816</td>\n",
       "      <td>http://citywire.co.uk/wealth-manager/news/shel...</td>\n",
       "    </tr>\n",
       "    <tr>\n",
       "      <th>7</th>\n",
       "      <td>0.202878</td>\n",
       "      <td>75.186497</td>\n",
       "      <td>0.202547</td>\n",
       "      <td>0.205735</td>\n",
       "      <td>0.202343</td>\n",
       "      <td>http://citywire.co.uk/wealth-manager/news/hedg...</td>\n",
       "    </tr>\n",
       "    <tr>\n",
       "      <th>8</th>\n",
       "      <td>0.201800</td>\n",
       "      <td>89.188854</td>\n",
       "      <td>0.202262</td>\n",
       "      <td>0.202066</td>\n",
       "      <td>0.205019</td>\n",
       "      <td>http://citywire.co.uk/wealth-manager/news/spec...</td>\n",
       "    </tr>\n",
       "    <tr>\n",
       "      <th>9</th>\n",
       "      <td>0.203007</td>\n",
       "      <td>0.203070</td>\n",
       "      <td>0.201721</td>\n",
       "      <td>0.201011</td>\n",
       "      <td>37.191192</td>\n",
       "      <td>http://citywire.co.uk/wealth-manager/news/auro...</td>\n",
       "    </tr>\n",
       "  </tbody>\n",
       "</table>\n",
       "</div>"
      ],
      "text/plain": [
       "       Topic0     Topic1    Topic2      Topic3      Topic4  \\\n",
       "0    0.204758   0.202419  0.202136  176.188062    0.202625   \n",
       "1   40.186861   0.203943  0.202781    0.201028    0.205388   \n",
       "2    0.200000   0.200000  0.200000    0.200000    0.200000   \n",
       "3    0.201574  22.191722  0.202322    0.201939    0.202444   \n",
       "4    0.202711   0.203027  0.201879    0.202244  100.190139   \n",
       "5    0.201377  94.194111  0.201508    0.201331    0.201672   \n",
       "6  113.194204   0.201158  0.201012    0.201810    0.201816   \n",
       "7    0.202878  75.186497  0.202547    0.205735    0.202343   \n",
       "8    0.201800  89.188854  0.202262    0.202066    0.205019   \n",
       "9    0.203007   0.203070  0.201721    0.201011   37.191192   \n",
       "\n",
       "                                            FullLink  \n",
       "0  http://citywire.co.uk/wealth-manager/news/satu...  \n",
       "1  http://citywire.co.uk/wealth-manager/news/rath...  \n",
       "2  http://citywire.co.uk/wealth-manager/news/cent...  \n",
       "3  http://citywire.co.uk/wealth-manager/news/weal...  \n",
       "4  http://citywire.co.uk/wealth-manager/news/jupi...  \n",
       "5  http://citywire.co.uk/wealth-manager/news/towr...  \n",
       "6  http://citywire.co.uk/wealth-manager/news/shel...  \n",
       "7  http://citywire.co.uk/wealth-manager/news/hedg...  \n",
       "8  http://citywire.co.uk/wealth-manager/news/spec...  \n",
       "9  http://citywire.co.uk/wealth-manager/news/auro...  "
      ]
     },
     "execution_count": 7,
     "metadata": {},
     "output_type": "execute_result"
    }
   ],
   "source": [
    "data = sql.read_sql(\"SELECT FullLink, CleanedBody from ArticleCorpus\",con=conn)\n",
    "results = lda.transform(c_vectorizer.fit_transform(data['CleanedBody']))\n",
    "topic_df = pd.DataFrame(results,columns=[\"Topic%s\" % i for i in range(5)])\n",
    "topic_df['FullLink'] = data['FullLink']\n",
    "topic_df.to_sql(name='Article_Topics',\n",
    "            con=conn,\n",
    "            if_exists='replace',\n",
    "            index=False)\n",
    "topic_df.head(10)"
   ]
  },
  {
   "cell_type": "code",
   "execution_count": 8,
   "metadata": {
    "collapsed": false
   },
   "outputs": [
    {
     "name": "stdout",
     "output_type": "stream",
     "text": [
      "oil month market price bank bull producers prices director wealth trading stocks research ftse head\n",
      "fund management service investors advice retirement companies wealth income offer company period risk people mutual\n",
      "jersey eu market uk business european opportunities client brexit result office management financial investors private\n",
      "times brexit government vote companies following bank fund global emerging crisis holding asian largest profit\n",
      "uk investment management manager share davies companies fund financial dividend office team trust year oil\n"
     ]
    }
   ],
   "source": [
    "n_top_words = 15\n",
    "import operator\n",
    "vocabulary = c_vectorizer.get_feature_names()\n",
    "for i in range(n_topics):\n",
    "    best_words_indexes = lda.components_[i].argsort()[:-n_top_words - 1:-1]\n",
    "    best_words = \" \".join([vocabulary[i] for i in best_words_indexes])\n",
    "    print best_words"
   ]
  },
  {
   "cell_type": "markdown",
   "metadata": {},
   "source": [
    "\n",
    "Possible topics could be:\n",
    "1. Investment Strategies\n",
    "2. Wealth / D2C focused market\n",
    "3. EU-centric Brexit topics\n",
    "4. Macroeconomic concerns\n",
    "5. Value/Equity investing\n"
   ]
  },
  {
   "cell_type": "code",
   "execution_count": 9,
   "metadata": {
    "collapsed": false
   },
   "outputs": [],
   "source": [
    "conn.close()"
   ]
  }
 ],
 "metadata": {
  "kernelspec": {
   "display_name": "Python 2",
   "language": "python",
   "name": "python2"
  },
  "language_info": {
   "codemirror_mode": {
    "name": "ipython",
    "version": 2
   },
   "file_extension": ".py",
   "mimetype": "text/x-python",
   "name": "python",
   "nbconvert_exporter": "python",
   "pygments_lexer": "ipython2",
   "version": "2.7.11"
  }
 },
 "nbformat": 4,
 "nbformat_minor": 0
}
