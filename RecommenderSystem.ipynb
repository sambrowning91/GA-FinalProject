{
 "cells": [
  {
   "cell_type": "code",
   "execution_count": 1,
   "metadata": {
    "collapsed": true
   },
   "outputs": [],
   "source": [
    "from pandas.io import sql\n",
    "import sqlite3"
   ]
  },
  {
   "cell_type": "code",
   "execution_count": 2,
   "metadata": {
    "collapsed": false
   },
   "outputs": [
    {
     "data": {
      "text/html": [
       "<div>\n",
       "<table border=\"1\" class=\"dataframe\">\n",
       "  <thead>\n",
       "    <tr style=\"text-align: right;\">\n",
       "      <th></th>\n",
       "      <th>PageLinks</th>\n",
       "      <th>FullLink</th>\n",
       "      <th>Time</th>\n",
       "      <th>Author</th>\n",
       "      <th>Header</th>\n",
       "      <th>Body</th>\n",
       "      <th>CleanedBody</th>\n",
       "    </tr>\n",
       "  </thead>\n",
       "  <tbody>\n",
       "    <tr>\n",
       "      <th>0</th>\n",
       "      <td>/wealth-manager/news/saturday-papers-rbs-to-ch...</td>\n",
       "      <td>http://citywire.co.uk/wealth-manager/news/satu...</td>\n",
       "      <td>2016-08-20 05:17:37</td>\n",
       "      <td>&gt;HimanshuSingh]</td>\n",
       "      <td>Saturday Papers: RBS to charge big clients for...</td>\n",
       "      <td>[&lt;div class=\"article-body\" itemprop=\"articleBo...</td>\n",
       "      <td>[\\nTop stories\\n\\nFinancial Times: Royal Bank ...</td>\n",
       "    </tr>\n",
       "  </tbody>\n",
       "</table>\n",
       "</div>"
      ],
      "text/plain": [
       "                                           PageLinks  \\\n",
       "0  /wealth-manager/news/saturday-papers-rbs-to-ch...   \n",
       "\n",
       "                                            FullLink                 Time  \\\n",
       "0  http://citywire.co.uk/wealth-manager/news/satu...  2016-08-20 05:17:37   \n",
       "\n",
       "            Author                                             Header  \\\n",
       "0  >HimanshuSingh]  Saturday Papers: RBS to charge big clients for...   \n",
       "\n",
       "                                                Body  \\\n",
       "0  [<div class=\"article-body\" itemprop=\"articleBo...   \n",
       "\n",
       "                                         CleanedBody  \n",
       "0  [\\nTop stories\\n\\nFinancial Times: Royal Bank ...  "
      ]
     },
     "execution_count": 2,
     "metadata": {},
     "output_type": "execute_result"
    }
   ],
   "source": [
    "conn = sqlite3.connect('ArticlesScraping.db')\n",
    "\n",
    "sql.read_sql(\n",
    "\"\"\"\n",
    "select * from ArticleCorpus limit 1\n",
    "\"\"\", con=conn).head()"
   ]
  },
  {
   "cell_type": "code",
   "execution_count": null,
   "metadata": {
    "collapsed": true
   },
   "outputs": [],
   "source": []
  }
 ],
 "metadata": {
  "kernelspec": {
   "display_name": "Python 2",
   "language": "python",
   "name": "python2"
  },
  "language_info": {
   "codemirror_mode": {
    "name": "ipython",
    "version": 2
   },
   "file_extension": ".py",
   "mimetype": "text/x-python",
   "name": "python",
   "nbconvert_exporter": "python",
   "pygments_lexer": "ipython2",
   "version": "2.7.11"
  }
 },
 "nbformat": 4,
 "nbformat_minor": 0
}
